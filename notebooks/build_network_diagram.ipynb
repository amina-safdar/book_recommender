{
 "cells": [
  {
   "cell_type": "code",
   "execution_count": 2,
   "id": "89fad7cd",
   "metadata": {},
   "outputs": [],
   "source": [
    "from IPython.core.interactiveshell import InteractiveShell\n",
    "InteractiveShell.ast_node_interactivity = \"all\""
   ]
  },
  {
   "cell_type": "code",
   "execution_count": 3,
   "id": "25d756bc",
   "metadata": {},
   "outputs": [],
   "source": [
    "import pandas as pd\n",
    "import numpy as np\n",
    "import matplotlib.pyplot as plt\n",
    "import networkx as nx\n",
    "import os \n",
    "\n",
    "os.chdir('../') # Run once initially "
   ]
  },
  {
   "cell_type": "markdown",
   "id": "334935cc",
   "metadata": {},
   "source": [
    "\n",
    "---\n",
    "\n",
    "### Load and explore data\n"
   ]
  },
  {
   "cell_type": "code",
   "execution_count": 4,
   "id": "7e40cfca",
   "metadata": {},
   "outputs": [],
   "source": [
    "data = pd.read_csv(f\"{os.getcwd()}/data/external/dataset.csv\")"
   ]
  },
  {
   "cell_type": "code",
   "execution_count": 5,
   "id": "c3c7647f",
   "metadata": {},
   "outputs": [
    {
     "data": {
      "text/plain": [
       "(4999, 9)"
      ]
     },
     "execution_count": 5,
     "metadata": {},
     "output_type": "execute_result"
    },
    {
     "name": "stdout",
     "output_type": "stream",
     "text": [
      "First date: \"2019-10-17 07:32:54\" \n",
      "Last date: \"2019-12-16 09:07:15\"\n"
     ]
    }
   ],
   "source": [
    "data.shape\n",
    "print(f\"First date:{data.date_created.min()} \\nLast date:{data.date_created.max()}\")"
   ]
  },
  {
   "cell_type": "markdown",
   "id": "4daa1d44",
   "metadata": {},
   "source": [
    "The data describes users' reading behaviours with each reading observation defined by nine features. There are 4999 observations collected over 60 days between October 17, 2019 and December 16, 2019. \n",
    "\n",
    "Let's take a look at a sample:"
   ]
  },
  {
   "cell_type": "code",
   "execution_count": 6,
   "id": "8c52b0bd",
   "metadata": {},
   "outputs": [
    {
     "data": {
      "text/html": [
       "<div>\n",
       "<style scoped>\n",
       "    .dataframe tbody tr th:only-of-type {\n",
       "        vertical-align: middle;\n",
       "    }\n",
       "\n",
       "    .dataframe tbody tr th {\n",
       "        vertical-align: top;\n",
       "    }\n",
       "\n",
       "    .dataframe thead th {\n",
       "        text-align: right;\n",
       "    }\n",
       "</style>\n",
       "<table border=\"1\" class=\"dataframe\">\n",
       "  <thead>\n",
       "    <tr style=\"text-align: right;\">\n",
       "      <th></th>\n",
       "      <th>user_id</th>\n",
       "      <th>number_of_ticks</th>\n",
       "      <th>date_created</th>\n",
       "      <th>chapter</th>\n",
       "      <th>book</th>\n",
       "      <th>numberofentriesofbook</th>\n",
       "      <th>numberofusersofbook</th>\n",
       "      <th>product_manning_id</th>\n",
       "      <th>user_owns_book</th>\n",
       "    </tr>\n",
       "  </thead>\n",
       "  <tbody>\n",
       "    <tr>\n",
       "      <th>0</th>\n",
       "      <td>-2147277864</td>\n",
       "      <td>1</td>\n",
       "      <td>\"2019-10-27 08:58:15\"</td>\n",
       "      <td>chapter-8</td>\n",
       "      <td>bhargava</td>\n",
       "      <td>888</td>\n",
       "      <td>440</td>\n",
       "      <td>610</td>\n",
       "      <td>1</td>\n",
       "    </tr>\n",
       "    <tr>\n",
       "      <th>1</th>\n",
       "      <td>-2146355313</td>\n",
       "      <td>8</td>\n",
       "      <td>\"2019-12-14 10:05:50\"</td>\n",
       "      <td>chapter-8</td>\n",
       "      <td>fain3</td>\n",
       "      <td>737</td>\n",
       "      <td>225</td>\n",
       "      <td>1069</td>\n",
       "      <td>1</td>\n",
       "    </tr>\n",
       "    <tr>\n",
       "      <th>2</th>\n",
       "      <td>-2146355313</td>\n",
       "      <td>8</td>\n",
       "      <td>\"2019-12-14 10:05:50\"</td>\n",
       "      <td>chapter-1</td>\n",
       "      <td>ramamurthy</td>\n",
       "      <td>715</td>\n",
       "      <td>202</td>\n",
       "      <td>1120</td>\n",
       "      <td>1</td>\n",
       "    </tr>\n",
       "    <tr>\n",
       "      <th>3</th>\n",
       "      <td>-2146355313</td>\n",
       "      <td>8</td>\n",
       "      <td>\"2019-12-14 10:05:50\"</td>\n",
       "      <td>chapter-1</td>\n",
       "      <td>thomas</td>\n",
       "      <td>445</td>\n",
       "      <td>136</td>\n",
       "      <td>816</td>\n",
       "      <td>1</td>\n",
       "    </tr>\n",
       "    <tr>\n",
       "      <th>4</th>\n",
       "      <td>-2146168866</td>\n",
       "      <td>2</td>\n",
       "      <td>\"2019-11-27 05:09:29\"</td>\n",
       "      <td>about-this-book</td>\n",
       "      <td>prasanna</td>\n",
       "      <td>21</td>\n",
       "      <td>14</td>\n",
       "      <td>273</td>\n",
       "      <td>0</td>\n",
       "    </tr>\n",
       "  </tbody>\n",
       "</table>\n",
       "</div>"
      ],
      "text/plain": [
       "      user_id  number_of_ticks            date_created          chapter  \\\n",
       "0 -2147277864                1   \"2019-10-27 08:58:15\"        chapter-8   \n",
       "1 -2146355313                8   \"2019-12-14 10:05:50\"        chapter-8   \n",
       "2 -2146355313                8   \"2019-12-14 10:05:50\"        chapter-1   \n",
       "3 -2146355313                8   \"2019-12-14 10:05:50\"        chapter-1   \n",
       "4 -2146168866                2   \"2019-11-27 05:09:29\"  about-this-book   \n",
       "\n",
       "         book  numberofentriesofbook  numberofusersofbook  product_manning_id  \\\n",
       "0    bhargava                    888                  440                 610   \n",
       "1       fain3                    737                  225                1069   \n",
       "2  ramamurthy                    715                  202                1120   \n",
       "3      thomas                    445                  136                 816   \n",
       "4    prasanna                     21                   14                 273   \n",
       "\n",
       "   user_owns_book  \n",
       "0               1  \n",
       "1               1  \n",
       "2               1  \n",
       "3               1  \n",
       "4               0  "
      ]
     },
     "execution_count": 6,
     "metadata": {},
     "output_type": "execute_result"
    }
   ],
   "source": [
    "data.head(5)"
   ]
  },
  {
   "cell_type": "code",
   "execution_count": 7,
   "id": "2ac8a8d6",
   "metadata": {},
   "outputs": [
    {
     "name": "stdout",
     "output_type": "stream",
     "text": [
      "<class 'pandas.core.frame.DataFrame'>\n",
      "RangeIndex: 4999 entries, 0 to 4998\n",
      "Data columns (total 9 columns):\n",
      " #   Column                 Non-Null Count  Dtype \n",
      "---  ------                 --------------  ----- \n",
      " 0   user_id                4999 non-null   int64 \n",
      " 1   number_of_ticks        4999 non-null   int64 \n",
      " 2   date_created           4999 non-null   object\n",
      " 3   chapter                4999 non-null   object\n",
      " 4   book                   4999 non-null   object\n",
      " 5   numberofentriesofbook  4999 non-null   int64 \n",
      " 6   numberofusersofbook    4999 non-null   int64 \n",
      " 7   product_manning_id     4999 non-null   int64 \n",
      " 8   user_owns_book         4999 non-null   int64 \n",
      "dtypes: int64(6), object(3)\n",
      "memory usage: 351.6+ KB\n"
     ]
    }
   ],
   "source": [
    "data.info()"
   ]
  },
  {
   "cell_type": "markdown",
   "id": "6eeaeb7b",
   "metadata": {},
   "source": [
    "\n",
    "Fortunately, there are no missing values in this dataset. However, there are some issues that need to be addressed in the data preparation step before we can create the edge list required to build the network diagram:\n",
    "\n",
    "- Two issues stand out in `user_id`:\n",
    "    - The values are strangely negative. In the data preparation step, this column will be standardized to positive integers.\n",
    "    - Secondly, although `user_id` values are objects and not int64 data types, this aspect will be preserved because we need to sort the data using this column later. By sorting the data by `user_id` and `date_created`, we will mimic SQL partitioning. This will allow us to extract the edge list.\n",
    "- Values in `date_created` are enquoted and objects; they need to be stripped before being converted to datetime64 types.\n",
    "\n",
    "Next, we will explore the data further by answering the following questions:\n",
    "\n",
    "1. How many users are big readers?\n",
    "2. Which book is owned by the most?\n",
    "3. Which book is read for the longest in each session?\n",
    "4. How many readers own the books they read?"
   ]
  },
  {
   "cell_type": "markdown",
   "id": "e09f02d3",
   "metadata": {},
   "source": [
    "\n",
    "---\n",
    "\n",
    "**2. Which book is owned by the most?**\n"
   ]
  },
  {
   "cell_type": "markdown",
   "id": "0adeb2dc",
   "metadata": {},
   "source": [
    "\n",
    "---\n",
    "\n",
    "**3. Which book is read for the longest in each session?**\n"
   ]
  },
  {
   "cell_type": "markdown",
   "id": "ff18b36e",
   "metadata": {},
   "source": [
    "\n",
    "---\n",
    "\n",
    "**4. How many readers purchase the books they read?**\n"
   ]
  },
  {
   "cell_type": "markdown",
   "id": "45983ed0",
   "metadata": {},
   "source": [
    "\n",
    "---\n",
    "\n",
    "**1. Which users read the most? The least?**\n"
   ]
  },
  {
   "cell_type": "code",
   "execution_count": 216,
   "id": "e968669b",
   "metadata": {},
   "outputs": [],
   "source": [
    "user_id_counts = data[\"user_id\"].value_counts()\n",
    "user_id_counts = user_id_counts.to_frame()\n",
    "user_id_counts.reset_index(inplace=True)\n",
    "user_id_counts.rename(columns={\"index\":\"user_id\", \"user_id\":\"count\"}, inplace=True)"
   ]
  },
  {
   "cell_type": "code",
   "execution_count": 209,
   "id": "3765582a",
   "metadata": {},
   "outputs": [],
   "source": [
    "user_id_counts[\"user_id\"] = user_id_counts[\"user_id\"].apply(str)"
   ]
  },
  {
   "cell_type": "code",
   "execution_count": 214,
   "id": "5258a6cf",
   "metadata": {},
   "outputs": [
    {
     "name": "stdout",
     "output_type": "stream",
     "text": [
      "<class 'pandas.core.frame.DataFrame'>\n",
      "RangeIndex: 641 entries, 0 to 640\n",
      "Data columns (total 2 columns):\n",
      " #   Column   Non-Null Count  Dtype \n",
      "---  ------   --------------  ----- \n",
      " 0   user_id  641 non-null    object\n",
      " 1   count    641 non-null    int64 \n",
      "dtypes: int64(1), object(1)\n",
      "memory usage: 10.1+ KB\n"
     ]
    }
   ],
   "source": [
    "user_id_counts.info()"
   ]
  },
  {
   "cell_type": "code",
   "execution_count": 217,
   "id": "88d7b488",
   "metadata": {},
   "outputs": [
    {
     "ename": "ConversionError",
     "evalue": "Failed to convert value(s) to axis units: [<bound method DataFrame.count of         user_id  count\n0   -2021139802    653\n1   -2088445927    331\n2   -2074479722    106\n3   -2135041721    104\n4   -2074434789     89\n..          ...    ...\n636 -2054614214      1\n637 -2053648004      1\n638 -2114289612      1\n639 -2053262764      1\n640 -2147277864      1\n\n[641 rows x 2 columns]>]",
     "output_type": "error",
     "traceback": [
      "\u001b[0;31m---------------------------------------------------------------------------\u001b[0m",
      "\u001b[0;31mTypeError\u001b[0m                                 Traceback (most recent call last)",
      "File \u001b[0;32m~/anaconda3/lib/python3.10/site-packages/matplotlib/axes/_axes.py:2229\u001b[0m, in \u001b[0;36mAxes._convert_dx\u001b[0;34m(dx, x0, xconv, convert)\u001b[0m\n\u001b[1;32m   2228\u001b[0m     delist \u001b[38;5;241m=\u001b[39m \u001b[38;5;28;01mTrue\u001b[39;00m\n\u001b[0;32m-> 2229\u001b[0m dx \u001b[38;5;241m=\u001b[39m [convert(x0 \u001b[38;5;241m+\u001b[39m ddx) \u001b[38;5;241m-\u001b[39m x \u001b[38;5;28;01mfor\u001b[39;00m ddx \u001b[38;5;129;01min\u001b[39;00m dx]\n\u001b[1;32m   2230\u001b[0m \u001b[38;5;28;01mif\u001b[39;00m delist:\n",
      "File \u001b[0;32m~/anaconda3/lib/python3.10/site-packages/matplotlib/axes/_axes.py:2229\u001b[0m, in \u001b[0;36m<listcomp>\u001b[0;34m(.0)\u001b[0m\n\u001b[1;32m   2228\u001b[0m     delist \u001b[38;5;241m=\u001b[39m \u001b[38;5;28;01mTrue\u001b[39;00m\n\u001b[0;32m-> 2229\u001b[0m dx \u001b[38;5;241m=\u001b[39m [convert(\u001b[43mx0\u001b[49m\u001b[43m \u001b[49m\u001b[38;5;241;43m+\u001b[39;49m\u001b[43m \u001b[49m\u001b[43mddx\u001b[49m) \u001b[38;5;241m-\u001b[39m x \u001b[38;5;28;01mfor\u001b[39;00m ddx \u001b[38;5;129;01min\u001b[39;00m dx]\n\u001b[1;32m   2230\u001b[0m \u001b[38;5;28;01mif\u001b[39;00m delist:\n",
      "\u001b[0;31mTypeError\u001b[0m: unsupported operand type(s) for +: 'int' and 'method'",
      "\nDuring handling of the above exception, another exception occurred:\n",
      "\u001b[0;31mTypeError\u001b[0m                                 Traceback (most recent call last)",
      "File \u001b[0;32m~/anaconda3/lib/python3.10/site-packages/matplotlib/axis.py:1736\u001b[0m, in \u001b[0;36mAxis.convert_units\u001b[0;34m(self, x)\u001b[0m\n\u001b[1;32m   1735\u001b[0m \u001b[38;5;28;01mtry\u001b[39;00m:\n\u001b[0;32m-> 1736\u001b[0m     ret \u001b[38;5;241m=\u001b[39m \u001b[38;5;28;43mself\u001b[39;49m\u001b[38;5;241;43m.\u001b[39;49m\u001b[43mconverter\u001b[49m\u001b[38;5;241;43m.\u001b[39;49m\u001b[43mconvert\u001b[49m\u001b[43m(\u001b[49m\u001b[43mx\u001b[49m\u001b[43m,\u001b[49m\u001b[43m \u001b[49m\u001b[38;5;28;43mself\u001b[39;49m\u001b[38;5;241;43m.\u001b[39;49m\u001b[43munits\u001b[49m\u001b[43m,\u001b[49m\u001b[43m \u001b[49m\u001b[38;5;28;43mself\u001b[39;49m\u001b[43m)\u001b[49m\n\u001b[1;32m   1737\u001b[0m \u001b[38;5;28;01mexcept\u001b[39;00m \u001b[38;5;167;01mException\u001b[39;00m \u001b[38;5;28;01mas\u001b[39;00m e:\n",
      "File \u001b[0;32m~/anaconda3/lib/python3.10/site-packages/matplotlib/category.py:57\u001b[0m, in \u001b[0;36mStrCategoryConverter.convert\u001b[0;34m(value, unit, axis)\u001b[0m\n\u001b[1;32m     56\u001b[0m \u001b[38;5;66;03m# force an update so it also does type checking\u001b[39;00m\n\u001b[0;32m---> 57\u001b[0m \u001b[43munit\u001b[49m\u001b[38;5;241;43m.\u001b[39;49m\u001b[43mupdate\u001b[49m\u001b[43m(\u001b[49m\u001b[43mvalues\u001b[49m\u001b[43m)\u001b[49m\n\u001b[1;32m     58\u001b[0m \u001b[38;5;28;01mreturn\u001b[39;00m np\u001b[38;5;241m.\u001b[39mvectorize(unit\u001b[38;5;241m.\u001b[39m_mapping\u001b[38;5;241m.\u001b[39m\u001b[38;5;21m__getitem__\u001b[39m, otypes\u001b[38;5;241m=\u001b[39m[\u001b[38;5;28mfloat\u001b[39m])(values)\n",
      "File \u001b[0;32m~/anaconda3/lib/python3.10/site-packages/matplotlib/category.py:216\u001b[0m, in \u001b[0;36mUnitData.update\u001b[0;34m(self, data)\u001b[0m\n\u001b[1;32m    214\u001b[0m \u001b[38;5;28;01mfor\u001b[39;00m val \u001b[38;5;129;01min\u001b[39;00m OrderedDict\u001b[38;5;241m.\u001b[39mfromkeys(data):\n\u001b[1;32m    215\u001b[0m     \u001b[38;5;66;03m# OrderedDict just iterates over unique values in data.\u001b[39;00m\n\u001b[0;32m--> 216\u001b[0m     \u001b[43m_api\u001b[49m\u001b[38;5;241;43m.\u001b[39;49m\u001b[43mcheck_isinstance\u001b[49m\u001b[43m(\u001b[49m\u001b[43m(\u001b[49m\u001b[38;5;28;43mstr\u001b[39;49m\u001b[43m,\u001b[49m\u001b[43m \u001b[49m\u001b[38;5;28;43mbytes\u001b[39;49m\u001b[43m)\u001b[49m\u001b[43m,\u001b[49m\u001b[43m \u001b[49m\u001b[43mvalue\u001b[49m\u001b[38;5;241;43m=\u001b[39;49m\u001b[43mval\u001b[49m\u001b[43m)\u001b[49m\n\u001b[1;32m    217\u001b[0m     \u001b[38;5;28;01mif\u001b[39;00m convertible:\n\u001b[1;32m    218\u001b[0m         \u001b[38;5;66;03m# this will only be called so long as convertible is True.\u001b[39;00m\n",
      "File \u001b[0;32m~/anaconda3/lib/python3.10/site-packages/matplotlib/_api/__init__.py:93\u001b[0m, in \u001b[0;36mcheck_isinstance\u001b[0;34m(_types, **kwargs)\u001b[0m\n\u001b[1;32m     92\u001b[0m     names\u001b[38;5;241m.\u001b[39mappend(\u001b[38;5;124m\"\u001b[39m\u001b[38;5;124mNone\u001b[39m\u001b[38;5;124m\"\u001b[39m)\n\u001b[0;32m---> 93\u001b[0m \u001b[38;5;28;01mraise\u001b[39;00m \u001b[38;5;167;01mTypeError\u001b[39;00m(\n\u001b[1;32m     94\u001b[0m     \u001b[38;5;124m\"\u001b[39m\u001b[38;5;132;01m{!r}\u001b[39;00m\u001b[38;5;124m must be an instance of \u001b[39m\u001b[38;5;132;01m{}\u001b[39;00m\u001b[38;5;124m, not a \u001b[39m\u001b[38;5;132;01m{}\u001b[39;00m\u001b[38;5;124m\"\u001b[39m\u001b[38;5;241m.\u001b[39mformat(\n\u001b[1;32m     95\u001b[0m         k,\n\u001b[1;32m     96\u001b[0m         \u001b[38;5;124m\"\u001b[39m\u001b[38;5;124m, \u001b[39m\u001b[38;5;124m\"\u001b[39m\u001b[38;5;241m.\u001b[39mjoin(names[:\u001b[38;5;241m-\u001b[39m\u001b[38;5;241m1\u001b[39m]) \u001b[38;5;241m+\u001b[39m \u001b[38;5;124m\"\u001b[39m\u001b[38;5;124m or \u001b[39m\u001b[38;5;124m\"\u001b[39m \u001b[38;5;241m+\u001b[39m names[\u001b[38;5;241m-\u001b[39m\u001b[38;5;241m1\u001b[39m]\n\u001b[1;32m     97\u001b[0m         \u001b[38;5;28;01mif\u001b[39;00m \u001b[38;5;28mlen\u001b[39m(names) \u001b[38;5;241m>\u001b[39m \u001b[38;5;241m1\u001b[39m \u001b[38;5;28;01melse\u001b[39;00m names[\u001b[38;5;241m0\u001b[39m],\n\u001b[1;32m     98\u001b[0m         type_name(\u001b[38;5;28mtype\u001b[39m(v))))\n",
      "\u001b[0;31mTypeError\u001b[0m: 'value' must be an instance of str or bytes, not a method",
      "\nThe above exception was the direct cause of the following exception:\n",
      "\u001b[0;31mConversionError\u001b[0m                           Traceback (most recent call last)",
      "Cell \u001b[0;32mIn[217], line 3\u001b[0m\n\u001b[1;32m      1\u001b[0m \u001b[38;5;66;03m# y = user_id, x = count\u001b[39;00m\n\u001b[1;32m      2\u001b[0m y_pos \u001b[38;5;241m=\u001b[39m np\u001b[38;5;241m.\u001b[39marange(\u001b[38;5;28mlen\u001b[39m(user_id_counts\u001b[38;5;241m.\u001b[39muser_id))\n\u001b[0;32m----> 3\u001b[0m \u001b[43max\u001b[49m\u001b[38;5;241;43m.\u001b[39;49m\u001b[43mbarh\u001b[49m\u001b[43m(\u001b[49m\u001b[43my_pos\u001b[49m\u001b[43m,\u001b[49m\u001b[43m \u001b[49m\u001b[43muser_id_counts\u001b[49m\u001b[38;5;241;43m.\u001b[39;49m\u001b[43mcount\u001b[49m\u001b[43m,\u001b[49m\u001b[43m \u001b[49m\u001b[43malign\u001b[49m\u001b[38;5;241;43m=\u001b[39;49m\u001b[38;5;124;43m'\u001b[39;49m\u001b[38;5;124;43mcenter\u001b[39;49m\u001b[38;5;124;43m'\u001b[39;49m\u001b[43m)\u001b[49m\n\u001b[1;32m      4\u001b[0m plt\u001b[38;5;241m.\u001b[39mshow()\n",
      "File \u001b[0;32m~/anaconda3/lib/python3.10/site-packages/matplotlib/axes/_axes.py:2649\u001b[0m, in \u001b[0;36mAxes.barh\u001b[0;34m(self, y, width, height, left, align, data, **kwargs)\u001b[0m\n\u001b[1;32m   2539\u001b[0m \u001b[38;5;124mr\u001b[39m\u001b[38;5;124;03m\"\"\"\u001b[39;00m\n\u001b[1;32m   2540\u001b[0m \u001b[38;5;124;03mMake a horizontal bar plot.\u001b[39;00m\n\u001b[1;32m   2541\u001b[0m \n\u001b[0;32m   (...)\u001b[0m\n\u001b[1;32m   2646\u001b[0m \u001b[38;5;124;03m:doc:`/gallery/lines_bars_and_markers/horizontal_barchart_distribution`.\u001b[39;00m\n\u001b[1;32m   2647\u001b[0m \u001b[38;5;124;03m\"\"\"\u001b[39;00m\n\u001b[1;32m   2648\u001b[0m kwargs\u001b[38;5;241m.\u001b[39msetdefault(\u001b[38;5;124m'\u001b[39m\u001b[38;5;124morientation\u001b[39m\u001b[38;5;124m'\u001b[39m, \u001b[38;5;124m'\u001b[39m\u001b[38;5;124mhorizontal\u001b[39m\u001b[38;5;124m'\u001b[39m)\n\u001b[0;32m-> 2649\u001b[0m patches \u001b[38;5;241m=\u001b[39m \u001b[38;5;28;43mself\u001b[39;49m\u001b[38;5;241;43m.\u001b[39;49m\u001b[43mbar\u001b[49m\u001b[43m(\u001b[49m\u001b[43mx\u001b[49m\u001b[38;5;241;43m=\u001b[39;49m\u001b[43mleft\u001b[49m\u001b[43m,\u001b[49m\u001b[43m \u001b[49m\u001b[43mheight\u001b[49m\u001b[38;5;241;43m=\u001b[39;49m\u001b[43mheight\u001b[49m\u001b[43m,\u001b[49m\u001b[43m \u001b[49m\u001b[43mwidth\u001b[49m\u001b[38;5;241;43m=\u001b[39;49m\u001b[43mwidth\u001b[49m\u001b[43m,\u001b[49m\u001b[43m \u001b[49m\u001b[43mbottom\u001b[49m\u001b[38;5;241;43m=\u001b[39;49m\u001b[43my\u001b[49m\u001b[43m,\u001b[49m\n\u001b[1;32m   2650\u001b[0m \u001b[43m                   \u001b[49m\u001b[43malign\u001b[49m\u001b[38;5;241;43m=\u001b[39;49m\u001b[43malign\u001b[49m\u001b[43m,\u001b[49m\u001b[43m \u001b[49m\u001b[43mdata\u001b[49m\u001b[38;5;241;43m=\u001b[39;49m\u001b[43mdata\u001b[49m\u001b[43m,\u001b[49m\u001b[43m \u001b[49m\u001b[38;5;241;43m*\u001b[39;49m\u001b[38;5;241;43m*\u001b[39;49m\u001b[43mkwargs\u001b[49m\u001b[43m)\u001b[49m\n\u001b[1;32m   2651\u001b[0m \u001b[38;5;28;01mreturn\u001b[39;00m patches\n",
      "File \u001b[0;32m~/anaconda3/lib/python3.10/site-packages/matplotlib/__init__.py:1442\u001b[0m, in \u001b[0;36m_preprocess_data.<locals>.inner\u001b[0;34m(ax, data, *args, **kwargs)\u001b[0m\n\u001b[1;32m   1439\u001b[0m \u001b[38;5;129m@functools\u001b[39m\u001b[38;5;241m.\u001b[39mwraps(func)\n\u001b[1;32m   1440\u001b[0m \u001b[38;5;28;01mdef\u001b[39;00m \u001b[38;5;21minner\u001b[39m(ax, \u001b[38;5;241m*\u001b[39margs, data\u001b[38;5;241m=\u001b[39m\u001b[38;5;28;01mNone\u001b[39;00m, \u001b[38;5;241m*\u001b[39m\u001b[38;5;241m*\u001b[39mkwargs):\n\u001b[1;32m   1441\u001b[0m     \u001b[38;5;28;01mif\u001b[39;00m data \u001b[38;5;129;01mis\u001b[39;00m \u001b[38;5;28;01mNone\u001b[39;00m:\n\u001b[0;32m-> 1442\u001b[0m         \u001b[38;5;28;01mreturn\u001b[39;00m \u001b[43mfunc\u001b[49m\u001b[43m(\u001b[49m\u001b[43max\u001b[49m\u001b[43m,\u001b[49m\u001b[43m \u001b[49m\u001b[38;5;241;43m*\u001b[39;49m\u001b[38;5;28;43mmap\u001b[39;49m\u001b[43m(\u001b[49m\u001b[43msanitize_sequence\u001b[49m\u001b[43m,\u001b[49m\u001b[43m \u001b[49m\u001b[43margs\u001b[49m\u001b[43m)\u001b[49m\u001b[43m,\u001b[49m\u001b[43m \u001b[49m\u001b[38;5;241;43m*\u001b[39;49m\u001b[38;5;241;43m*\u001b[39;49m\u001b[43mkwargs\u001b[49m\u001b[43m)\u001b[49m\n\u001b[1;32m   1444\u001b[0m     bound \u001b[38;5;241m=\u001b[39m new_sig\u001b[38;5;241m.\u001b[39mbind(ax, \u001b[38;5;241m*\u001b[39margs, \u001b[38;5;241m*\u001b[39m\u001b[38;5;241m*\u001b[39mkwargs)\n\u001b[1;32m   1445\u001b[0m     auto_label \u001b[38;5;241m=\u001b[39m (bound\u001b[38;5;241m.\u001b[39marguments\u001b[38;5;241m.\u001b[39mget(label_namer)\n\u001b[1;32m   1446\u001b[0m                   \u001b[38;5;129;01mor\u001b[39;00m bound\u001b[38;5;241m.\u001b[39mkwargs\u001b[38;5;241m.\u001b[39mget(label_namer))\n",
      "File \u001b[0;32m~/anaconda3/lib/python3.10/site-packages/matplotlib/axes/_axes.py:2407\u001b[0m, in \u001b[0;36mAxes.bar\u001b[0;34m(self, x, height, width, bottom, align, **kwargs)\u001b[0m\n\u001b[1;32m   2405\u001b[0m x0 \u001b[38;5;241m=\u001b[39m x\n\u001b[1;32m   2406\u001b[0m x \u001b[38;5;241m=\u001b[39m np\u001b[38;5;241m.\u001b[39masarray(\u001b[38;5;28mself\u001b[39m\u001b[38;5;241m.\u001b[39mconvert_xunits(x))\n\u001b[0;32m-> 2407\u001b[0m width \u001b[38;5;241m=\u001b[39m \u001b[38;5;28;43mself\u001b[39;49m\u001b[38;5;241;43m.\u001b[39;49m\u001b[43m_convert_dx\u001b[49m\u001b[43m(\u001b[49m\u001b[43mwidth\u001b[49m\u001b[43m,\u001b[49m\u001b[43m \u001b[49m\u001b[43mx0\u001b[49m\u001b[43m,\u001b[49m\u001b[43m \u001b[49m\u001b[43mx\u001b[49m\u001b[43m,\u001b[49m\u001b[43m \u001b[49m\u001b[38;5;28;43mself\u001b[39;49m\u001b[38;5;241;43m.\u001b[39;49m\u001b[43mconvert_xunits\u001b[49m\u001b[43m)\u001b[49m\n\u001b[1;32m   2408\u001b[0m \u001b[38;5;28;01mif\u001b[39;00m xerr \u001b[38;5;129;01mis\u001b[39;00m \u001b[38;5;129;01mnot\u001b[39;00m \u001b[38;5;28;01mNone\u001b[39;00m:\n\u001b[1;32m   2409\u001b[0m     xerr \u001b[38;5;241m=\u001b[39m \u001b[38;5;28mself\u001b[39m\u001b[38;5;241m.\u001b[39m_convert_dx(xerr, x0, x, \u001b[38;5;28mself\u001b[39m\u001b[38;5;241m.\u001b[39mconvert_xunits)\n",
      "File \u001b[0;32m~/anaconda3/lib/python3.10/site-packages/matplotlib/axes/_axes.py:2235\u001b[0m, in \u001b[0;36mAxes._convert_dx\u001b[0;34m(dx, x0, xconv, convert)\u001b[0m\n\u001b[1;32m   2231\u001b[0m         dx \u001b[38;5;241m=\u001b[39m dx[\u001b[38;5;241m0\u001b[39m]\n\u001b[1;32m   2232\u001b[0m \u001b[38;5;28;01mexcept\u001b[39;00m (\u001b[38;5;167;01mValueError\u001b[39;00m, \u001b[38;5;167;01mTypeError\u001b[39;00m, \u001b[38;5;167;01mAttributeError\u001b[39;00m):\n\u001b[1;32m   2233\u001b[0m     \u001b[38;5;66;03m# if the above fails (for any reason) just fallback to what\u001b[39;00m\n\u001b[1;32m   2234\u001b[0m     \u001b[38;5;66;03m# we do by default and convert dx by itself.\u001b[39;00m\n\u001b[0;32m-> 2235\u001b[0m     dx \u001b[38;5;241m=\u001b[39m \u001b[43mconvert\u001b[49m\u001b[43m(\u001b[49m\u001b[43mdx\u001b[49m\u001b[43m)\u001b[49m\n\u001b[1;32m   2236\u001b[0m \u001b[38;5;28;01mreturn\u001b[39;00m dx\n",
      "File \u001b[0;32m~/anaconda3/lib/python3.10/site-packages/matplotlib/artist.py:281\u001b[0m, in \u001b[0;36mArtist.convert_xunits\u001b[0;34m(self, x)\u001b[0m\n\u001b[1;32m    279\u001b[0m \u001b[38;5;28;01mif\u001b[39;00m ax \u001b[38;5;129;01mis\u001b[39;00m \u001b[38;5;28;01mNone\u001b[39;00m \u001b[38;5;129;01mor\u001b[39;00m ax\u001b[38;5;241m.\u001b[39mxaxis \u001b[38;5;129;01mis\u001b[39;00m \u001b[38;5;28;01mNone\u001b[39;00m:\n\u001b[1;32m    280\u001b[0m     \u001b[38;5;28;01mreturn\u001b[39;00m x\n\u001b[0;32m--> 281\u001b[0m \u001b[38;5;28;01mreturn\u001b[39;00m \u001b[43max\u001b[49m\u001b[38;5;241;43m.\u001b[39;49m\u001b[43mxaxis\u001b[49m\u001b[38;5;241;43m.\u001b[39;49m\u001b[43mconvert_units\u001b[49m\u001b[43m(\u001b[49m\u001b[43mx\u001b[49m\u001b[43m)\u001b[49m\n",
      "File \u001b[0;32m~/anaconda3/lib/python3.10/site-packages/matplotlib/axis.py:1738\u001b[0m, in \u001b[0;36mAxis.convert_units\u001b[0;34m(self, x)\u001b[0m\n\u001b[1;32m   1736\u001b[0m     ret \u001b[38;5;241m=\u001b[39m \u001b[38;5;28mself\u001b[39m\u001b[38;5;241m.\u001b[39mconverter\u001b[38;5;241m.\u001b[39mconvert(x, \u001b[38;5;28mself\u001b[39m\u001b[38;5;241m.\u001b[39munits, \u001b[38;5;28mself\u001b[39m)\n\u001b[1;32m   1737\u001b[0m \u001b[38;5;28;01mexcept\u001b[39;00m \u001b[38;5;167;01mException\u001b[39;00m \u001b[38;5;28;01mas\u001b[39;00m e:\n\u001b[0;32m-> 1738\u001b[0m     \u001b[38;5;28;01mraise\u001b[39;00m munits\u001b[38;5;241m.\u001b[39mConversionError(\u001b[38;5;124m'\u001b[39m\u001b[38;5;124mFailed to convert value(s) to axis \u001b[39m\u001b[38;5;124m'\u001b[39m\n\u001b[1;32m   1739\u001b[0m                                  \u001b[38;5;124mf\u001b[39m\u001b[38;5;124m'\u001b[39m\u001b[38;5;124munits: \u001b[39m\u001b[38;5;132;01m{\u001b[39;00mx\u001b[38;5;132;01m!r}\u001b[39;00m\u001b[38;5;124m'\u001b[39m) \u001b[38;5;28;01mfrom\u001b[39;00m \u001b[38;5;21;01me\u001b[39;00m\n\u001b[1;32m   1740\u001b[0m \u001b[38;5;28;01mreturn\u001b[39;00m ret\n",
      "\u001b[0;31mConversionError\u001b[0m: Failed to convert value(s) to axis units: [<bound method DataFrame.count of         user_id  count\n0   -2021139802    653\n1   -2088445927    331\n2   -2074479722    106\n3   -2135041721    104\n4   -2074434789     89\n..          ...    ...\n636 -2054614214      1\n637 -2053648004      1\n638 -2114289612      1\n639 -2053262764      1\n640 -2147277864      1\n\n[641 rows x 2 columns]>]"
     ]
    }
   ],
   "source": [
    "# y = user_id, x = count\n",
    "y_pos = np.arange(len(user_id_counts.user_id))\n",
    "ax.barh(y_pos, user_id_counts.count, align='center')\n",
    "plt.show()"
   ]
  },
  {
   "cell_type": "markdown",
   "id": "d977c639",
   "metadata": {},
   "source": [
    "Users -2021139802 and -2088445927 account for 13.1 percent (653/4999) and 6.6 percent of the total reading activity respectively."
   ]
  },
  {
   "cell_type": "markdown",
   "id": "2455a0d3",
   "metadata": {},
   "source": [
    "\n",
    "---\n",
    "\n",
    "**2. How long are users' reading sessions?**\n"
   ]
  },
  {
   "cell_type": "code",
   "execution_count": 224,
   "id": "1ca3c9a4",
   "metadata": {},
   "outputs": [
    {
     "data": {
      "image/png": "[encoded data removed]",
      "text/plain": [
       "<Figure size 640x480 with 1 Axes>"
      ]
     },
     "metadata": {},
     "output_type": "display_data"
    }
   ],
   "source": [
    "time_reading = data[\"number_of_ticks\"].value_counts()\n",
    "time_reading.hist(bins=10);"
   ]
  },
  {
   "cell_type": "code",
   "execution_count": 225,
   "id": "c062f9a6",
   "metadata": {},
   "outputs": [
    {
     "data": {
      "text/plain": [
       "<Axes: ylabel='Density'>"
      ]
     },
     "execution_count": 225,
     "metadata": {},
     "output_type": "execute_result"
    },
    {
     "data": {
      "image/png": "[encoded data removed]",
      "text/plain": [
       "<Figure size 640x480 with 1 Axes>"
      ]
     },
     "metadata": {},
     "output_type": "display_data"
    }
   ],
   "source": [
    "time_reading.plot.kde()"
   ]
  },
  {
   "cell_type": "code",
   "execution_count": 230,
   "id": "6991c16e",
   "metadata": {},
   "outputs": [
    {
     "data": {
      "text/plain": [
       "Int64Index([  1,   2,   3,   4,   5,   6,   7,   8,  10,  11,\n",
       "            ...\n",
       "            227, 295, 221,  83, 279, 359,  94, 157, 120,  98],\n",
       "           dtype='int64', length=158)"
      ]
     },
     "execution_count": 230,
     "metadata": {},
     "output_type": "execute_result"
    }
   ],
   "source": [
    "time_reading.index"
   ]
  },
  {
   "cell_type": "code",
   "execution_count": 23,
   "id": "5b6fa1e2",
   "metadata": {},
   "outputs": [
    {
     "data": {
      "text/plain": [
       "1    2875\n",
       "0    2124\n",
       "Name: user_owns_book, dtype: int64"
      ]
     },
     "execution_count": 23,
     "metadata": {},
     "output_type": "execute_result"
    }
   ],
   "source": [
    "data[\"user_owns_book\"].value_counts()"
   ]
  },
  {
   "cell_type": "code",
   "execution_count": 24,
   "id": "2b427634",
   "metadata": {},
   "outputs": [
    {
     "data": {
      "text/plain": [
       "windmill      162\n",
       "elgendy       134\n",
       "skeet5        103\n",
       "mcnamara       99\n",
       "chollet        91\n",
       "             ... \n",
       "black2          1\n",
       "rosenberg       1\n",
       "rosenbaum2      1\n",
       "jones           1\n",
       "wagner          1\n",
       "Name: book, Length: 334, dtype: int64"
      ]
     },
     "execution_count": 24,
     "metadata": {},
     "output_type": "execute_result"
    }
   ],
   "source": [
    "data[\"book\"].value_counts()"
   ]
  },
  {
   "cell_type": "code",
   "execution_count": 231,
   "id": "a0cf1969",
   "metadata": {},
   "outputs": [
    {
     "data": {
      "text/html": [
       "<div>\n",
       "<style scoped>\n",
       "    .dataframe tbody tr th:only-of-type {\n",
       "        vertical-align: middle;\n",
       "    }\n",
       "\n",
       "    .dataframe tbody tr th {\n",
       "        vertical-align: top;\n",
       "    }\n",
       "\n",
       "    .dataframe thead th {\n",
       "        text-align: right;\n",
       "    }\n",
       "</style>\n",
       "<table border=\"1\" class=\"dataframe\">\n",
       "  <thead>\n",
       "    <tr style=\"text-align: right;\">\n",
       "      <th></th>\n",
       "      <th>user_id</th>\n",
       "      <th>number_of_ticks</th>\n",
       "      <th>date_created</th>\n",
       "      <th>chapter</th>\n",
       "      <th>numberofentriesofbook</th>\n",
       "      <th>numberofusersofbook</th>\n",
       "      <th>product_manning_id</th>\n",
       "      <th>user_owns_book</th>\n",
       "    </tr>\n",
       "    <tr>\n",
       "      <th>book</th>\n",
       "      <th></th>\n",
       "      <th></th>\n",
       "      <th></th>\n",
       "      <th></th>\n",
       "      <th></th>\n",
       "      <th></th>\n",
       "      <th></th>\n",
       "      <th></th>\n",
       "    </tr>\n",
       "  </thead>\n",
       "  <tbody>\n",
       "    <tr>\n",
       "      <th>abernethy2</th>\n",
       "      <td>7</td>\n",
       "      <td>7</td>\n",
       "      <td>7</td>\n",
       "      <td>7</td>\n",
       "      <td>7</td>\n",
       "      <td>7</td>\n",
       "      <td>7</td>\n",
       "      <td>7</td>\n",
       "    </tr>\n",
       "    <tr>\n",
       "      <th>abraham</th>\n",
       "      <td>5</td>\n",
       "      <td>5</td>\n",
       "      <td>5</td>\n",
       "      <td>5</td>\n",
       "      <td>5</td>\n",
       "      <td>5</td>\n",
       "      <td>5</td>\n",
       "      <td>5</td>\n",
       "    </tr>\n",
       "    <tr>\n",
       "      <th>adzic</th>\n",
       "      <td>12</td>\n",
       "      <td>12</td>\n",
       "      <td>12</td>\n",
       "      <td>12</td>\n",
       "      <td>12</td>\n",
       "      <td>12</td>\n",
       "      <td>12</td>\n",
       "      <td>12</td>\n",
       "    </tr>\n",
       "    <tr>\n",
       "      <th>alag</th>\n",
       "      <td>4</td>\n",
       "      <td>4</td>\n",
       "      <td>4</td>\n",
       "      <td>4</td>\n",
       "      <td>4</td>\n",
       "      <td>4</td>\n",
       "      <td>4</td>\n",
       "      <td>4</td>\n",
       "    </tr>\n",
       "    <tr>\n",
       "      <th>allaire</th>\n",
       "      <td>56</td>\n",
       "      <td>56</td>\n",
       "      <td>56</td>\n",
       "      <td>56</td>\n",
       "      <td>56</td>\n",
       "      <td>56</td>\n",
       "      <td>56</td>\n",
       "      <td>56</td>\n",
       "    </tr>\n",
       "    <tr>\n",
       "      <th>...</th>\n",
       "      <td>...</td>\n",
       "      <td>...</td>\n",
       "      <td>...</td>\n",
       "      <td>...</td>\n",
       "      <td>...</td>\n",
       "      <td>...</td>\n",
       "      <td>...</td>\n",
       "      <td>...</td>\n",
       "    </tr>\n",
       "    <tr>\n",
       "      <th>zai</th>\n",
       "      <td>26</td>\n",
       "      <td>26</td>\n",
       "      <td>26</td>\n",
       "      <td>26</td>\n",
       "      <td>26</td>\n",
       "      <td>26</td>\n",
       "      <td>26</td>\n",
       "      <td>26</td>\n",
       "    </tr>\n",
       "    <tr>\n",
       "      <th>zburivsky</th>\n",
       "      <td>34</td>\n",
       "      <td>34</td>\n",
       "      <td>34</td>\n",
       "      <td>34</td>\n",
       "      <td>34</td>\n",
       "      <td>34</td>\n",
       "      <td>34</td>\n",
       "      <td>34</td>\n",
       "    </tr>\n",
       "    <tr>\n",
       "      <th>zumel</th>\n",
       "      <td>5</td>\n",
       "      <td>5</td>\n",
       "      <td>5</td>\n",
       "      <td>5</td>\n",
       "      <td>5</td>\n",
       "      <td>5</td>\n",
       "      <td>5</td>\n",
       "      <td>5</td>\n",
       "    </tr>\n",
       "    <tr>\n",
       "      <th>zumel2</th>\n",
       "      <td>2</td>\n",
       "      <td>2</td>\n",
       "      <td>2</td>\n",
       "      <td>2</td>\n",
       "      <td>2</td>\n",
       "      <td>2</td>\n",
       "      <td>2</td>\n",
       "      <td>2</td>\n",
       "    </tr>\n",
       "    <tr>\n",
       "      <th>zumel3</th>\n",
       "      <td>14</td>\n",
       "      <td>14</td>\n",
       "      <td>14</td>\n",
       "      <td>14</td>\n",
       "      <td>14</td>\n",
       "      <td>14</td>\n",
       "      <td>14</td>\n",
       "      <td>14</td>\n",
       "    </tr>\n",
       "  </tbody>\n",
       "</table>\n",
       "<p>334 rows × 8 columns</p>\n",
       "</div>"
      ],
      "text/plain": [
       "            user_id  number_of_ticks  date_created  chapter  \\\n",
       "book                                                          \n",
       "abernethy2        7                7             7        7   \n",
       "abraham           5                5             5        5   \n",
       "adzic            12               12            12       12   \n",
       "alag              4                4             4        4   \n",
       "allaire          56               56            56       56   \n",
       "...             ...              ...           ...      ...   \n",
       "zai              26               26            26       26   \n",
       "zburivsky        34               34            34       34   \n",
       "zumel             5                5             5        5   \n",
       "zumel2            2                2             2        2   \n",
       "zumel3           14               14            14       14   \n",
       "\n",
       "            numberofentriesofbook  numberofusersofbook  product_manning_id  \\\n",
       "book                                                                         \n",
       "abernethy2                      7                    7                   7   \n",
       "abraham                         5                    5                   5   \n",
       "adzic                          12                   12                  12   \n",
       "alag                            4                    4                   4   \n",
       "allaire                        56                   56                  56   \n",
       "...                           ...                  ...                 ...   \n",
       "zai                            26                   26                  26   \n",
       "zburivsky                      34                   34                  34   \n",
       "zumel                           5                    5                   5   \n",
       "zumel2                          2                    2                   2   \n",
       "zumel3                         14                   14                  14   \n",
       "\n",
       "            user_owns_book  \n",
       "book                        \n",
       "abernethy2               7  \n",
       "abraham                  5  \n",
       "adzic                   12  \n",
       "alag                     4  \n",
       "allaire                 56  \n",
       "...                    ...  \n",
       "zai                     26  \n",
       "zburivsky               34  \n",
       "zumel                    5  \n",
       "zumel2                   2  \n",
       "zumel3                  14  \n",
       "\n",
       "[334 rows x 8 columns]"
      ]
     },
     "execution_count": 231,
     "metadata": {},
     "output_type": "execute_result"
    }
   ],
   "source": [
    "data.groupby(\"book\").count()"
   ]
  },
  {
   "cell_type": "markdown",
   "id": "1a56ed0a",
   "metadata": {},
   "source": [
    "\n",
    "---\n",
    "\n",
    "### Prepare data\n"
   ]
  },
  {
   "cell_type": "code",
   "execution_count": 8,
   "id": "6635f0f6",
   "metadata": {},
   "outputs": [],
   "source": [
    "# Transform features\n",
    "data[\"date_created\"] = data[\"date_created\"].str.replace('\"', '')\n",
    "data[\"date_created\"] = data[\"date_created\"].str.strip()\n",
    "data[\"date_created\"] = pd.to_datetime(data[\"date_created\"], format=\"%Y-%m-%d %H:%M:%S\")\n",
    "\n",
    "data[\"chapter\"] = data[\"chapter\"].str.strip()\n",
    "\n",
    "data[\"user_id\"] = data[\"user_id\"].abs()"
   ]
  },
  {
   "cell_type": "markdown",
   "id": "adc19ac8",
   "metadata": {},
   "source": [
    "Note that user_id remains an int64 data type because we will be sorting it later (mathematical operation)"
   ]
  },
  {
   "cell_type": "code",
   "execution_count": 9,
   "id": "5e53e6f3",
   "metadata": {},
   "outputs": [],
   "source": [
    "# \"Partition\" data by user and sort each user's entries chronologically\n",
    "data = data.sort_values(by=[\"user_id\", \"date_created\"])"
   ]
  },
  {
   "cell_type": "markdown",
   "id": "994ff478",
   "metadata": {},
   "source": [
    "\n",
    "---\n",
    "\n",
    "### Create edge list"
   ]
  },
  {
   "cell_type": "code",
   "execution_count": 10,
   "id": "69166895",
   "metadata": {},
   "outputs": [],
   "source": [
    "# Feature engineering for network diagram edge list\n",
    "data[\"source\"] =data[\"book\"] # ADD CHAPTER, NOTE DIRECTED\n",
    "data[\"target\"]= data[\"source\"].shift(-1)  \n",
    "data[\"target_user_id\"]= data[\"user_id\"].shift(-1) # Store next row/target's `user_id` to verify that user reading behaviour is examined individually"
   ]
  },
  {
   "cell_type": "code",
   "execution_count": 11,
   "id": "ef55263b",
   "metadata": {},
   "outputs": [],
   "source": [
    "# Mark and drop invalid rows\n",
    "data[\"is_match\"] = np.where((data[\"target_user_id\"] == data[\"user_id\"]), data[\"user_id\"], np.nan)\n",
    "data.dropna(subset=[\"is_match\"], inplace=True)"
   ]
  },
  {
   "cell_type": "code",
   "execution_count": 12,
   "id": "61843dbd",
   "metadata": {},
   "outputs": [
    {
     "data": {
      "text/html": [
       "<div>\n",
       "<style scoped>\n",
       "    .dataframe tbody tr th:only-of-type {\n",
       "        vertical-align: middle;\n",
       "    }\n",
       "\n",
       "    .dataframe tbody tr th {\n",
       "        vertical-align: top;\n",
       "    }\n",
       "\n",
       "    .dataframe thead th {\n",
       "        text-align: right;\n",
       "    }\n",
       "</style>\n",
       "<table border=\"1\" class=\"dataframe\">\n",
       "  <thead>\n",
       "    <tr style=\"text-align: right;\">\n",
       "      <th></th>\n",
       "      <th>user_id</th>\n",
       "      <th>number_of_ticks</th>\n",
       "      <th>date_created</th>\n",
       "      <th>chapter</th>\n",
       "      <th>book</th>\n",
       "      <th>numberofentriesofbook</th>\n",
       "      <th>numberofusersofbook</th>\n",
       "      <th>product_manning_id</th>\n",
       "      <th>user_owns_book</th>\n",
       "      <th>source</th>\n",
       "      <th>target</th>\n",
       "      <th>target_user_id</th>\n",
       "      <th>is_match</th>\n",
       "    </tr>\n",
       "  </thead>\n",
       "  <tbody>\n",
       "    <tr>\n",
       "      <th>4997</th>\n",
       "      <td>2019295583</td>\n",
       "      <td>5</td>\n",
       "      <td>2019-11-12 13:47:10</td>\n",
       "      <td>chapter-7</td>\n",
       "      <td>urma2</td>\n",
       "      <td>2210</td>\n",
       "      <td>500</td>\n",
       "      <td>786</td>\n",
       "      <td>1</td>\n",
       "      <td>urma2</td>\n",
       "      <td>sholmes2</td>\n",
       "      <td>2.019296e+09</td>\n",
       "      <td>2.019296e+09</td>\n",
       "    </tr>\n",
       "    <tr>\n",
       "      <th>4979</th>\n",
       "      <td>2019295583</td>\n",
       "      <td>2</td>\n",
       "      <td>2019-11-26 07:39:39</td>\n",
       "      <td>chapter-3</td>\n",
       "      <td>sholmes2</td>\n",
       "      <td>705</td>\n",
       "      <td>148</td>\n",
       "      <td>901</td>\n",
       "      <td>0</td>\n",
       "      <td>sholmes2</td>\n",
       "      <td>sholmes2</td>\n",
       "      <td>2.019296e+09</td>\n",
       "      <td>2.019296e+09</td>\n",
       "    </tr>\n",
       "    <tr>\n",
       "      <th>4980</th>\n",
       "      <td>2019295583</td>\n",
       "      <td>2</td>\n",
       "      <td>2019-11-26 07:40:39</td>\n",
       "      <td>chapter-3</td>\n",
       "      <td>sholmes2</td>\n",
       "      <td>705</td>\n",
       "      <td>148</td>\n",
       "      <td>901</td>\n",
       "      <td>0</td>\n",
       "      <td>sholmes2</td>\n",
       "      <td>urma2</td>\n",
       "      <td>2.019296e+09</td>\n",
       "      <td>2.019296e+09</td>\n",
       "    </tr>\n",
       "    <tr>\n",
       "      <th>4995</th>\n",
       "      <td>2019295583</td>\n",
       "      <td>3</td>\n",
       "      <td>2019-11-26 07:44:44</td>\n",
       "      <td>chapter-1</td>\n",
       "      <td>urma2</td>\n",
       "      <td>2210</td>\n",
       "      <td>500</td>\n",
       "      <td>786</td>\n",
       "      <td>1</td>\n",
       "      <td>urma2</td>\n",
       "      <td>urma2</td>\n",
       "      <td>2.019296e+09</td>\n",
       "      <td>2.019296e+09</td>\n",
       "    </tr>\n",
       "    <tr>\n",
       "      <th>4996</th>\n",
       "      <td>2019295583</td>\n",
       "      <td>2</td>\n",
       "      <td>2019-11-26 07:46:14</td>\n",
       "      <td>chapter-1</td>\n",
       "      <td>urma2</td>\n",
       "      <td>2210</td>\n",
       "      <td>500</td>\n",
       "      <td>786</td>\n",
       "      <td>1</td>\n",
       "      <td>urma2</td>\n",
       "      <td>rodger</td>\n",
       "      <td>2.019296e+09</td>\n",
       "      <td>2.019296e+09</td>\n",
       "    </tr>\n",
       "    <tr>\n",
       "      <th>...</th>\n",
       "      <td>...</td>\n",
       "      <td>...</td>\n",
       "      <td>...</td>\n",
       "      <td>...</td>\n",
       "      <td>...</td>\n",
       "      <td>...</td>\n",
       "      <td>...</td>\n",
       "      <td>...</td>\n",
       "      <td>...</td>\n",
       "      <td>...</td>\n",
       "      <td>...</td>\n",
       "      <td>...</td>\n",
       "      <td>...</td>\n",
       "    </tr>\n",
       "    <tr>\n",
       "      <th>42</th>\n",
       "      <td>2145886989</td>\n",
       "      <td>4</td>\n",
       "      <td>2019-12-15 22:51:01</td>\n",
       "      <td>chapter-6</td>\n",
       "      <td>mcnamara</td>\n",
       "      <td>2533</td>\n",
       "      <td>461</td>\n",
       "      <td>880</td>\n",
       "      <td>1</td>\n",
       "      <td>mcnamara</td>\n",
       "      <td>mcnamara</td>\n",
       "      <td>2.145887e+09</td>\n",
       "      <td>2.145887e+09</td>\n",
       "    </tr>\n",
       "    <tr>\n",
       "      <th>43</th>\n",
       "      <td>2145886989</td>\n",
       "      <td>8</td>\n",
       "      <td>2019-12-15 22:53:01</td>\n",
       "      <td>chapter-6</td>\n",
       "      <td>mcnamara</td>\n",
       "      <td>2533</td>\n",
       "      <td>461</td>\n",
       "      <td>880</td>\n",
       "      <td>1</td>\n",
       "      <td>mcnamara</td>\n",
       "      <td>mcnamara</td>\n",
       "      <td>2.145887e+09</td>\n",
       "      <td>2.145887e+09</td>\n",
       "    </tr>\n",
       "    <tr>\n",
       "      <th>44</th>\n",
       "      <td>2145886989</td>\n",
       "      <td>48</td>\n",
       "      <td>2019-12-15 22:57:01</td>\n",
       "      <td>chapter-6</td>\n",
       "      <td>mcnamara</td>\n",
       "      <td>2533</td>\n",
       "      <td>461</td>\n",
       "      <td>880</td>\n",
       "      <td>1</td>\n",
       "      <td>mcnamara</td>\n",
       "      <td>mcnamara</td>\n",
       "      <td>2.145887e+09</td>\n",
       "      <td>2.145887e+09</td>\n",
       "    </tr>\n",
       "    <tr>\n",
       "      <th>1</th>\n",
       "      <td>2146355313</td>\n",
       "      <td>8</td>\n",
       "      <td>2019-12-14 10:05:50</td>\n",
       "      <td>chapter-8</td>\n",
       "      <td>fain3</td>\n",
       "      <td>737</td>\n",
       "      <td>225</td>\n",
       "      <td>1069</td>\n",
       "      <td>1</td>\n",
       "      <td>fain3</td>\n",
       "      <td>ramamurthy</td>\n",
       "      <td>2.146355e+09</td>\n",
       "      <td>2.146355e+09</td>\n",
       "    </tr>\n",
       "    <tr>\n",
       "      <th>2</th>\n",
       "      <td>2146355313</td>\n",
       "      <td>8</td>\n",
       "      <td>2019-12-14 10:05:50</td>\n",
       "      <td>chapter-1</td>\n",
       "      <td>ramamurthy</td>\n",
       "      <td>715</td>\n",
       "      <td>202</td>\n",
       "      <td>1120</td>\n",
       "      <td>1</td>\n",
       "      <td>ramamurthy</td>\n",
       "      <td>thomas</td>\n",
       "      <td>2.146355e+09</td>\n",
       "      <td>2.146355e+09</td>\n",
       "    </tr>\n",
       "  </tbody>\n",
       "</table>\n",
       "<p>4358 rows × 13 columns</p>\n",
       "</div>"
      ],
      "text/plain": [
       "         user_id  number_of_ticks        date_created    chapter        book  \\\n",
       "4997  2019295583                5 2019-11-12 13:47:10  chapter-7       urma2   \n",
       "4979  2019295583                2 2019-11-26 07:39:39  chapter-3    sholmes2   \n",
       "4980  2019295583                2 2019-11-26 07:40:39  chapter-3    sholmes2   \n",
       "4995  2019295583                3 2019-11-26 07:44:44  chapter-1       urma2   \n",
       "4996  2019295583                2 2019-11-26 07:46:14  chapter-1       urma2   \n",
       "...          ...              ...                 ...        ...         ...   \n",
       "42    2145886989                4 2019-12-15 22:51:01  chapter-6    mcnamara   \n",
       "43    2145886989                8 2019-12-15 22:53:01  chapter-6    mcnamara   \n",
       "44    2145886989               48 2019-12-15 22:57:01  chapter-6    mcnamara   \n",
       "1     2146355313                8 2019-12-14 10:05:50  chapter-8       fain3   \n",
       "2     2146355313                8 2019-12-14 10:05:50  chapter-1  ramamurthy   \n",
       "\n",
       "      numberofentriesofbook  numberofusersofbook  product_manning_id  \\\n",
       "4997                   2210                  500                 786   \n",
       "4979                    705                  148                 901   \n",
       "4980                    705                  148                 901   \n",
       "4995                   2210                  500                 786   \n",
       "4996                   2210                  500                 786   \n",
       "...                     ...                  ...                 ...   \n",
       "42                     2533                  461                 880   \n",
       "43                     2533                  461                 880   \n",
       "44                     2533                  461                 880   \n",
       "1                       737                  225                1069   \n",
       "2                       715                  202                1120   \n",
       "\n",
       "      user_owns_book      source      target  target_user_id      is_match  \n",
       "4997               1       urma2    sholmes2    2.019296e+09  2.019296e+09  \n",
       "4979               0    sholmes2    sholmes2    2.019296e+09  2.019296e+09  \n",
       "4980               0    sholmes2       urma2    2.019296e+09  2.019296e+09  \n",
       "4995               1       urma2       urma2    2.019296e+09  2.019296e+09  \n",
       "4996               1       urma2      rodger    2.019296e+09  2.019296e+09  \n",
       "...              ...         ...         ...             ...           ...  \n",
       "42                 1    mcnamara    mcnamara    2.145887e+09  2.145887e+09  \n",
       "43                 1    mcnamara    mcnamara    2.145887e+09  2.145887e+09  \n",
       "44                 1    mcnamara    mcnamara    2.145887e+09  2.145887e+09  \n",
       "1                  1       fain3  ramamurthy    2.146355e+09  2.146355e+09  \n",
       "2                  1  ramamurthy      thomas    2.146355e+09  2.146355e+09  \n",
       "\n",
       "[4358 rows x 13 columns]"
      ]
     },
     "execution_count": 12,
     "metadata": {},
     "output_type": "execute_result"
    }
   ],
   "source": [
    "# Verify edge list results before visualization\n",
    "data"
   ]
  },
  {
   "cell_type": "markdown",
   "id": "4ff304b7",
   "metadata": {},
   "source": [
    "\n",
    "---\n",
    "\n",
    "### Visualize network diagram"
   ]
  },
  {
   "cell_type": "code",
   "execution_count": 13,
   "id": "f8996d16",
   "metadata": {},
   "outputs": [
    {
     "data": {
      "image/png": "[encoded data removed]",
      "text/plain": [
       "<Figure size 640x480 with 1 Axes>"
      ]
     },
     "metadata": {},
     "output_type": "display_data"
    }
   ],
   "source": [
    "G = nx.from_pandas_edgelist(data,\"source\",'target', create_using=nx.DiGraph)\n",
    "nx.draw_networkx(G, with_labels=False, node_size=100, node_color=\"gray\")"
   ]
  },
  {
   "cell_type": "markdown",
   "id": "4e15accd",
   "metadata": {},
   "source": [
    "\n",
    "---\n",
    "\n",
    "### Export data"
   ]
  },
  {
   "cell_type": "code",
   "execution_count": 16,
   "id": "5e6ebbc3",
   "metadata": {},
   "outputs": [],
   "source": [
    "data.to_csv(\"data/internal/edge_list.csv\")"
   ]
  }
 ],
 "metadata": {
  "kernelspec": {
   "display_name": "Python 3 (ipykernel)",
   "language": "python",
   "name": "python3"
  },
  "language_info": {
   "codemirror_mode": {
    "name": "ipython",
    "version": 3
   },
   "file_extension": ".py",
   "mimetype": "text/x-python",
   "name": "python",
   "nbconvert_exporter": "python",
   "pygments_lexer": "ipython3",
   "version": "3.10.9"
  }
 },
 "nbformat": 4,
 "nbformat_minor": 5
}
