{
 "cells": [
  {
   "cell_type": "code",
   "execution_count": 1,
   "id": "5a7d66fa",
   "metadata": {},
   "outputs": [],
   "source": [
    "import pandas as pd\n",
    "import numpy as np\n",
    "import matplotlib.pyplot as plt\n",
    "import networkx as nx\n",
    "import os "
   ]
  },
  {
   "cell_type": "code",
   "execution_count": 8,
   "id": "f96ab879",
   "metadata": {},
   "outputs": [],
   "source": [
    "#os.chdir('../') # Run once\n",
    "DATA_PATH = f\"{os.getcwd()}/data/dataset.csv\""
   ]
  },
  {
   "cell_type": "code",
   "execution_count": 9,
   "id": "d1715e0e",
   "metadata": {},
   "outputs": [
    {
     "data": {
      "text/html": [
       "<div>\n",
       "<style scoped>\n",
       "    .dataframe tbody tr th:only-of-type {\n",
       "        vertical-align: middle;\n",
       "    }\n",
       "\n",
       "    .dataframe tbody tr th {\n",
       "        vertical-align: top;\n",
       "    }\n",
       "\n",
       "    .dataframe thead th {\n",
       "        text-align: right;\n",
       "    }\n",
       "</style>\n",
       "<table border=\"1\" class=\"dataframe\">\n",
       "  <thead>\n",
       "    <tr style=\"text-align: right;\">\n",
       "      <th></th>\n",
       "      <th>user_id</th>\n",
       "      <th>number_of_ticks</th>\n",
       "      <th>date_created</th>\n",
       "      <th>chapter</th>\n",
       "      <th>book</th>\n",
       "      <th>numberofentriesofbook</th>\n",
       "      <th>numberofusersofbook</th>\n",
       "      <th>product_manning_id</th>\n",
       "      <th>user_owns_book</th>\n",
       "    </tr>\n",
       "  </thead>\n",
       "  <tbody>\n",
       "    <tr>\n",
       "      <th>0</th>\n",
       "      <td>-2147277864</td>\n",
       "      <td>1</td>\n",
       "      <td>\"2019-10-27 08:58:15\"</td>\n",
       "      <td>chapter-8</td>\n",
       "      <td>bhargava</td>\n",
       "      <td>888</td>\n",
       "      <td>440</td>\n",
       "      <td>610</td>\n",
       "      <td>1</td>\n",
       "    </tr>\n",
       "    <tr>\n",
       "      <th>1</th>\n",
       "      <td>-2146355313</td>\n",
       "      <td>8</td>\n",
       "      <td>\"2019-12-14 10:05:50\"</td>\n",
       "      <td>chapter-8</td>\n",
       "      <td>fain3</td>\n",
       "      <td>737</td>\n",
       "      <td>225</td>\n",
       "      <td>1069</td>\n",
       "      <td>1</td>\n",
       "    </tr>\n",
       "    <tr>\n",
       "      <th>2</th>\n",
       "      <td>-2146355313</td>\n",
       "      <td>8</td>\n",
       "      <td>\"2019-12-14 10:05:50\"</td>\n",
       "      <td>chapter-1</td>\n",
       "      <td>ramamurthy</td>\n",
       "      <td>715</td>\n",
       "      <td>202</td>\n",
       "      <td>1120</td>\n",
       "      <td>1</td>\n",
       "    </tr>\n",
       "    <tr>\n",
       "      <th>3</th>\n",
       "      <td>-2146355313</td>\n",
       "      <td>8</td>\n",
       "      <td>\"2019-12-14 10:05:50\"</td>\n",
       "      <td>chapter-1</td>\n",
       "      <td>thomas</td>\n",
       "      <td>445</td>\n",
       "      <td>136</td>\n",
       "      <td>816</td>\n",
       "      <td>1</td>\n",
       "    </tr>\n",
       "    <tr>\n",
       "      <th>4</th>\n",
       "      <td>-2146168866</td>\n",
       "      <td>2</td>\n",
       "      <td>\"2019-11-27 05:09:29\"</td>\n",
       "      <td>about-this-book</td>\n",
       "      <td>prasanna</td>\n",
       "      <td>21</td>\n",
       "      <td>14</td>\n",
       "      <td>273</td>\n",
       "      <td>0</td>\n",
       "    </tr>\n",
       "  </tbody>\n",
       "</table>\n",
       "</div>"
      ],
      "text/plain": [
       "      user_id  number_of_ticks            date_created          chapter  \\\n",
       "0 -2147277864                1   \"2019-10-27 08:58:15\"        chapter-8   \n",
       "1 -2146355313                8   \"2019-12-14 10:05:50\"        chapter-8   \n",
       "2 -2146355313                8   \"2019-12-14 10:05:50\"        chapter-1   \n",
       "3 -2146355313                8   \"2019-12-14 10:05:50\"        chapter-1   \n",
       "4 -2146168866                2   \"2019-11-27 05:09:29\"  about-this-book   \n",
       "\n",
       "         book  numberofentriesofbook  numberofusersofbook  product_manning_id  \\\n",
       "0    bhargava                    888                  440                 610   \n",
       "1       fain3                    737                  225                1069   \n",
       "2  ramamurthy                    715                  202                1120   \n",
       "3      thomas                    445                  136                 816   \n",
       "4    prasanna                     21                   14                 273   \n",
       "\n",
       "   user_owns_book  \n",
       "0               1  \n",
       "1               1  \n",
       "2               1  \n",
       "3               1  \n",
       "4               0  "
      ]
     },
     "execution_count": 9,
     "metadata": {},
     "output_type": "execute_result"
    }
   ],
   "source": [
    "data = pd.read_csv(DATA_PATH)\n",
    "data.head(5)"
   ]
  },
  {
   "cell_type": "code",
   "execution_count": 11,
   "id": "53e40508",
   "metadata": {},
   "outputs": [
    {
     "data": {
      "text/plain": [
       "(4999, 9)"
      ]
     },
     "execution_count": 11,
     "metadata": {},
     "output_type": "execute_result"
    }
   ],
   "source": [
    "data.shape"
   ]
  },
  {
   "cell_type": "code",
   "execution_count": 19,
   "id": "f143ae8e",
   "metadata": {},
   "outputs": [
    {
     "name": "stdout",
     "output_type": "stream",
     "text": [
      "<class 'pandas.core.frame.DataFrame'>\n",
      "RangeIndex: 4999 entries, 0 to 4998\n",
      "Data columns (total 9 columns):\n",
      " #   Column                 Non-Null Count  Dtype \n",
      "---  ------                 --------------  ----- \n",
      " 0   user_id                4999 non-null   int64 \n",
      " 1   number_of_ticks        4999 non-null   int64 \n",
      " 2   date_created           4999 non-null   object\n",
      " 3   chapter                4999 non-null   object\n",
      " 4   book                   4999 non-null   object\n",
      " 5   numberofentriesofbook  4999 non-null   int64 \n",
      " 6   numberofusersofbook    4999 non-null   int64 \n",
      " 7   product_manning_id     4999 non-null   int64 \n",
      " 8   user_owns_book         4999 non-null   int64 \n",
      "dtypes: int64(6), object(3)\n",
      "memory usage: 351.6+ KB\n"
     ]
    }
   ],
   "source": [
    "data.info()"
   ]
  },
  {
   "cell_type": "code",
   "execution_count": 20,
   "id": "92e8147a",
   "metadata": {},
   "outputs": [
    {
     "data": {
      "text/plain": [
       "2021139802    653\n",
       "2088445927    331\n",
       "2074479722    106\n",
       "2135041721    104\n",
       "2074434789     89\n",
       "             ... \n",
       "2054614214      1\n",
       "2053648004      1\n",
       "2114289612      1\n",
       "2053262764      1\n",
       "2147277864      1\n",
       "Name: user_id, Length: 641, dtype: int64"
      ]
     },
     "execution_count": 20,
     "metadata": {},
     "output_type": "execute_result"
    }
   ],
   "source": [
    "data[\"user_id\"].value_counts()"
   ]
  },
  {
   "cell_type": "code",
   "execution_count": 21,
   "id": "763b7e67",
   "metadata": {},
   "outputs": [
    {
     "data": {
      "text/plain": [
       "1      1923\n",
       "2       674\n",
       "3       368\n",
       "4       240\n",
       "5       171\n",
       "       ... \n",
       "359       1\n",
       "94        1\n",
       "157       1\n",
       "120       1\n",
       "98        1\n",
       "Name: number_of_ticks, Length: 158, dtype: int64"
      ]
     },
     "execution_count": 21,
     "metadata": {},
     "output_type": "execute_result"
    }
   ],
   "source": [
    "data[\"number_of_ticks\"].value_counts()"
   ]
  },
  {
   "cell_type": "code",
   "execution_count": 23,
   "id": "55200671",
   "metadata": {},
   "outputs": [
    {
     "data": {
      "text/plain": [
       "1    2875\n",
       "0    2124\n",
       "Name: user_owns_book, dtype: int64"
      ]
     },
     "execution_count": 23,
     "metadata": {},
     "output_type": "execute_result"
    }
   ],
   "source": [
    "data[\"user_owns_book\"].value_counts()"
   ]
  },
  {
   "cell_type": "code",
   "execution_count": 17,
   "id": "f2450178",
   "metadata": {},
   "outputs": [],
   "source": [
    "data[\"user_id\"] = data[\"user_id\"].abs()"
   ]
  },
  {
   "cell_type": "markdown",
   "id": "3c8f204f",
   "metadata": {},
   "source": [
    "Positive user_ids"
   ]
  },
  {
   "cell_type": "code",
   "execution_count": 18,
   "id": "d4a8dac3",
   "metadata": {},
   "outputs": [
    {
     "data": {
      "text/html": [
       "<div>\n",
       "<style scoped>\n",
       "    .dataframe tbody tr th:only-of-type {\n",
       "        vertical-align: middle;\n",
       "    }\n",
       "\n",
       "    .dataframe tbody tr th {\n",
       "        vertical-align: top;\n",
       "    }\n",
       "\n",
       "    .dataframe thead th {\n",
       "        text-align: right;\n",
       "    }\n",
       "</style>\n",
       "<table border=\"1\" class=\"dataframe\">\n",
       "  <thead>\n",
       "    <tr style=\"text-align: right;\">\n",
       "      <th></th>\n",
       "      <th>user_id</th>\n",
       "      <th>number_of_ticks</th>\n",
       "      <th>date_created</th>\n",
       "      <th>chapter</th>\n",
       "      <th>book</th>\n",
       "      <th>numberofentriesofbook</th>\n",
       "      <th>numberofusersofbook</th>\n",
       "      <th>product_manning_id</th>\n",
       "      <th>user_owns_book</th>\n",
       "    </tr>\n",
       "  </thead>\n",
       "  <tbody>\n",
       "    <tr>\n",
       "      <th>0</th>\n",
       "      <td>2147277864</td>\n",
       "      <td>1</td>\n",
       "      <td>\"2019-10-27 08:58:15\"</td>\n",
       "      <td>chapter-8</td>\n",
       "      <td>bhargava</td>\n",
       "      <td>888</td>\n",
       "      <td>440</td>\n",
       "      <td>610</td>\n",
       "      <td>1</td>\n",
       "    </tr>\n",
       "    <tr>\n",
       "      <th>1</th>\n",
       "      <td>2146355313</td>\n",
       "      <td>8</td>\n",
       "      <td>\"2019-12-14 10:05:50\"</td>\n",
       "      <td>chapter-8</td>\n",
       "      <td>fain3</td>\n",
       "      <td>737</td>\n",
       "      <td>225</td>\n",
       "      <td>1069</td>\n",
       "      <td>1</td>\n",
       "    </tr>\n",
       "    <tr>\n",
       "      <th>2</th>\n",
       "      <td>2146355313</td>\n",
       "      <td>8</td>\n",
       "      <td>\"2019-12-14 10:05:50\"</td>\n",
       "      <td>chapter-1</td>\n",
       "      <td>ramamurthy</td>\n",
       "      <td>715</td>\n",
       "      <td>202</td>\n",
       "      <td>1120</td>\n",
       "      <td>1</td>\n",
       "    </tr>\n",
       "    <tr>\n",
       "      <th>3</th>\n",
       "      <td>2146355313</td>\n",
       "      <td>8</td>\n",
       "      <td>\"2019-12-14 10:05:50\"</td>\n",
       "      <td>chapter-1</td>\n",
       "      <td>thomas</td>\n",
       "      <td>445</td>\n",
       "      <td>136</td>\n",
       "      <td>816</td>\n",
       "      <td>1</td>\n",
       "    </tr>\n",
       "    <tr>\n",
       "      <th>4</th>\n",
       "      <td>2146168866</td>\n",
       "      <td>2</td>\n",
       "      <td>\"2019-11-27 05:09:29\"</td>\n",
       "      <td>about-this-book</td>\n",
       "      <td>prasanna</td>\n",
       "      <td>21</td>\n",
       "      <td>14</td>\n",
       "      <td>273</td>\n",
       "      <td>0</td>\n",
       "    </tr>\n",
       "  </tbody>\n",
       "</table>\n",
       "</div>"
      ],
      "text/plain": [
       "      user_id  number_of_ticks            date_created          chapter  \\\n",
       "0  2147277864                1   \"2019-10-27 08:58:15\"        chapter-8   \n",
       "1  2146355313                8   \"2019-12-14 10:05:50\"        chapter-8   \n",
       "2  2146355313                8   \"2019-12-14 10:05:50\"        chapter-1   \n",
       "3  2146355313                8   \"2019-12-14 10:05:50\"        chapter-1   \n",
       "4  2146168866                2   \"2019-11-27 05:09:29\"  about-this-book   \n",
       "\n",
       "         book  numberofentriesofbook  numberofusersofbook  product_manning_id  \\\n",
       "0    bhargava                    888                  440                 610   \n",
       "1       fain3                    737                  225                1069   \n",
       "2  ramamurthy                    715                  202                1120   \n",
       "3      thomas                    445                  136                 816   \n",
       "4    prasanna                     21                   14                 273   \n",
       "\n",
       "   user_owns_book  \n",
       "0               1  \n",
       "1               1  \n",
       "2               1  \n",
       "3               1  \n",
       "4               0  "
      ]
     },
     "execution_count": 18,
     "metadata": {},
     "output_type": "execute_result"
    }
   ],
   "source": [
    "data.head()"
   ]
  },
  {
   "cell_type": "code",
   "execution_count": null,
   "id": "738bf54d",
   "metadata": {},
   "outputs": [],
   "source": []
  }
 ],
 "metadata": {
  "kernelspec": {
   "display_name": "Python 3 (ipykernel)",
   "language": "python",
   "name": "python3"
  },
  "language_info": {
   "codemirror_mode": {
    "name": "ipython",
    "version": 3
   },
   "file_extension": ".py",
   "mimetype": "text/x-python",
   "name": "python",
   "nbconvert_exporter": "python",
   "pygments_lexer": "ipython3",
   "version": "3.10.9"
  }
 },
 "nbformat": 4,
 "nbformat_minor": 5
}
